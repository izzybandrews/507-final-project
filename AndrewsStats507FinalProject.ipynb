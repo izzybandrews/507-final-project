{
 "cells": [
  {
   "cell_type": "markdown",
   "id": "ec7b7a08-8e0c-4f10-976f-a00179170982",
   "metadata": {},
   "source": [
    "This is the code for the STATS 507 Final Project. In this code I have developed a model that helps compare NHL players with\n",
    "a single value called Goals Above Replacement."
   ]
  },
  {
   "cell_type": "code",
   "execution_count": 553,
   "id": "4c7fe4ca-43fb-492d-953b-12482e71941b",
   "metadata": {},
   "outputs": [],
   "source": [
    "# Loading in the needed packages\n",
    "#pip install datasets\n",
    "import pandas as pd\n",
    "from datasets import load_dataset\n",
    "\n",
    "import numpy as np\n",
    "import pandas as pd\n",
    "import seaborn as sns\n",
    "\n",
    "import matplotlib.pyplot as plt\n",
    "import tkinter as tk"
   ]
  },
  {
   "cell_type": "code",
   "execution_count": 554,
   "id": "81bbcc1b-1372-453f-883b-458612eac8f4",
   "metadata": {},
   "outputs": [],
   "source": [
    "# Loading in the nhl data set found on Hugging Face\n",
    "nhl = load_dataset(\"Recordly/nhl-skaters-dataset\")\n",
    "\n",
    "# Making the data into a pandas data frame\n",
    "nhlData = nhl['train'].to_pandas()"
   ]
  },
  {
   "cell_type": "markdown",
   "id": "26891a85-f063-4519-be47-25f22eee121c",
   "metadata": {},
   "source": [
    "Grouping the data together based on their player ID"
   ]
  },
  {
   "cell_type": "code",
   "execution_count": 556,
   "id": "4f7b2d3e-7f01-4987-8a19-293fd28ebb93",
   "metadata": {},
   "outputs": [],
   "source": [
    "\n",
    "player_stats = nhlData.groupby('player_id').agg(\n",
    "    games_played=('game_id', 'count'),                    # Calculating variable to see how many games each ID (player) has played.\n",
    "    timeOnIce=('timeOnIce', 'sum'),                       # summing the time on ice for each player\n",
    "    assists=('assists', 'sum'),                           # summing the assits for each player \n",
    "    goals=('goals', 'sum'),                               # summing the goals for each player\n",
    "    shots=('shots', 'sum'),                               # summing the shots for each player\n",
    "    hits=('hits', 'sum'),                                 # summing the hits for each player\n",
    "    powerPlayGoals=('powerPlayGoals', 'sum'),             # summing the power play goals for each player\n",
    "    powerPlayAssists=('powerPlayAssists', 'sum'),         # summing the power play assists for each player\n",
    "    penaltyMinutes=('penaltyMinutes', 'sum'),             # summing the penalty minutes for each player\n",
    "    faceOffWins=('faceOffWins', 'sum'),                   # summing the face off taken for each player\n",
    "    faceOffTaken=('faceoffTaken', 'sum'),                 # summing the face offs won for each player\n",
    "    takeaways=('takeaways', 'sum'),                       # summing the takeawys for each player\n",
    "    giveaways=('giveaways', 'sum'),                       # summing the giveaways for each player\n",
    "    shortHandedGoals=('shortHandedGoals', 'sum'),         # summing the short handed goals for each player\n",
    "    shortHandedAssists=('shortHandedAssists', 'sum'),     # summing the short handed assists for each player\n",
    "    blocked=('blocked', 'sum'),                           # summing the blocked shots for each player\n",
    "    plusMinus=('plusMinus', 'sum'),                       # calculating the plus minus for each player\n",
    "    evenTimeOnIce=('evenTimeOnIce', 'sum'),               # calculating the time on ice for 5v5 play\n",
    "    shortHandedTimeOnIce=('shortHandedTimeOnIce', 'sum'), # calculating the time on ice for 4v5 play\n",
    "    powerPlayTimeOnIce=('powerPlayTimeOnIce', 'sum')      # calculating the time on ice for 5v4 play  \n",
    ").reset_index()\n",
    "\n",
    "\n",
    "\n"
   ]
  },
  {
   "cell_type": "markdown",
   "id": "ca431439-8aa4-4041-a1a5-5ce8ee505c0c",
   "metadata": {},
   "source": [
    "Comparing two NHL players statistics that have a similar number of goals"
   ]
  },
  {
   "cell_type": "code",
   "execution_count": 1,
   "id": "7e946abb-9a97-4829-91ce-5579e39071c3",
   "metadata": {},
   "outputs": [
    {
     "ename": "NameError",
     "evalue": "name 'player_stats' is not defined",
     "output_type": "error",
     "traceback": [
      "\u001b[1;31m---------------------------------------------------------------------------\u001b[0m",
      "\u001b[1;31mNameError\u001b[0m                                 Traceback (most recent call last)",
      "Cell \u001b[1;32mIn[1], line 6\u001b[0m\n\u001b[0;32m      3\u001b[0m player2_id \u001b[38;5;241m=\u001b[39m \u001b[38;5;241m8479318\u001b[39m\n\u001b[0;32m      5\u001b[0m \u001b[38;5;66;03m# I used ChatGPT to assist with creating this graph. I made a couple of changes to understand every aspect\u001b[39;00m\n\u001b[1;32m----> 6\u001b[0m player1_stats \u001b[38;5;241m=\u001b[39m player_stats[player_stats[\u001b[38;5;124m'\u001b[39m\u001b[38;5;124mplayer_id\u001b[39m\u001b[38;5;124m'\u001b[39m] \u001b[38;5;241m==\u001b[39m player1_id]\u001b[38;5;241m.\u001b[39msum()\n\u001b[0;32m      7\u001b[0m player2_stats \u001b[38;5;241m=\u001b[39m player_stats[player_stats[\u001b[38;5;124m'\u001b[39m\u001b[38;5;124mplayer_id\u001b[39m\u001b[38;5;124m'\u001b[39m] \u001b[38;5;241m==\u001b[39m player2_id]\u001b[38;5;241m.\u001b[39msum()\n\u001b[0;32m      9\u001b[0m \u001b[38;5;66;03m# Set the Variables of Interest\u001b[39;00m\n",
      "\u001b[1;31mNameError\u001b[0m: name 'player_stats' is not defined"
     ]
    }
   ],
   "source": [
    "# Identify the two players of interest\n",
    "player1_id = 8476460\n",
    "player2_id = 8479318\n",
    "\n",
    "# I used ChatGPT to assist with creating this graph. I made a couple of changes to understand every aspect\n",
    "player1_stats = player_stats[player_stats['player_id'] == player1_id].sum()\n",
    "player2_stats = player_stats[player_stats['player_id'] == player2_id].sum()\n",
    "\n",
    "# Set the Variables of Interest\n",
    "comparisonStats = ['goals', 'assists', 'shots', 'hits', 'blocked', 'takeaways']\n",
    "\n",
    "# Get the variables of interest\n",
    "player1_values = [player1_stats[stat] for stat in comparisonStats]\n",
    "player2_values = [player2_stats[stat] for stat in comparisonStats]\n",
    "\n",
    "# Create a grouped bar chart\n",
    "x = np.arange(len(comparisonStats)) \n",
    "width = 0.4\n",
    "\n",
    "fig, axes = plt.subplots(figsize=(10, 6))\n",
    "bar1 = axes.bar(x - width/2, player1_values, width, label='Player 1', color='royalblue')\n",
    "bar2 = axes.bar(x + width/2, player2_values, width, label='Player 2', color='gold')\n",
    "\n",
    "# Add labels, title, and legend\n",
    "axes.set_xlabel('Metrics')\n",
    "axes.set_ylabel('Frequency')\n",
    "axes.set_title('Player Statistics Comparison')\n",
    "\n",
    "\n",
    "axes.set_xticks(x)\n",
    "axes.set_xticklabels(comparisonStats)\n",
    "axes.legend()\n",
    "plt.show()\n",
    "\n"
   ]
  },
  {
   "cell_type": "code",
   "execution_count": 664,
   "id": "1509a224-c5d7-4643-acec-c2c2ee2d2fd0",
   "metadata": {},
   "outputs": [
    {
     "data": {
      "image/png": "[encoded data removed]",
      "text/plain": [
       "<Figure size 1000x600 with 1 Axes>"
      ]
     },
     "metadata": {},
     "output_type": "display_data"
    }
   ],
   "source": [
    "\n",
    "# Used ChatGPT to assist with creating this graph. I made a couple of changes to understand every aspect.\n",
    "# The function \"melt\" is new to me but was very helpful for this graph!\n",
    "\n",
    "# Define the statistics to visualize\n",
    "stats = ['goals', 'assists']\n",
    "\n",
    "\n",
    "valuesOfInterest = {\n",
    "    'Statistic': [],\n",
    "    'League Average': [],\n",
    "    'Replacement Level': [],\n",
    "    'Elite Level (90th Percentile)': []\n",
    "}\n",
    "\n",
    "for stat in stats:\n",
    "    valuesOfInterest['Statistic'].append(stat.capitalize())\n",
    "    valuesOfInterest['League Average'].append(player_stats[stat].mean())\n",
    "    valuesOfInterest['Replacement Level'].append(np.percentile(player_stats[stat], 30))\n",
    "    valuesOfInterest['Elite Level (90th Percentile)'].append(np.percentile(player_stats[stat], 90))\n",
    "\n",
    "df = pd.DataFrame(valuesOfInterest)\n",
    "\n",
    "\n",
    "levels = df.melt(\n",
    "    id_vars='Statistic',\n",
    "    var_name='Level',\n",
    "    value_name='Value'\n",
    ")\n",
    "\n",
    "plt.figure(figsize=(10, 6))\n",
    "sns.barplot(\n",
    "    data=levels,\n",
    "    x='Value',\n",
    "    y='Statistic',\n",
    "    hue='Level',\n",
    "    palette='husl'\n",
    ")\n",
    "plt.title('Replacement-Level Visualization')\n",
    "plt.xlabel('Frequency')\n",
    "plt.ylabel('Statistic')\n",
    "plt.show()\n",
    "\n",
    "\n"
   ]
  },
  {
   "cell_type": "code",
   "execution_count": null,
   "id": "d94898a6-5323-4a78-a229-6a29234691ca",
   "metadata": {},
   "outputs": [],
   "source": []
  },
  {
   "cell_type": "markdown",
   "id": "589abd5a-fe41-459f-81ae-c56cb9d4cc75",
   "metadata": {},
   "source": [
    "Calculating additional values needed for my Goals Above Replacement model. In order to take into account that some players\n",
    "don't play the same amount it makes sense to standardize the statistics by calculating their averages per 82 games (1 season)."
   ]
  },
  {
   "cell_type": "code",
   "execution_count": 666,
   "id": "5dfccdcf-a0e5-4e46-8f16-046990b452eb",
   "metadata": {},
   "outputs": [],
   "source": [
    "\n",
    "# Offense\n",
    "player_stats['goals_per_game'] = player_stats['goals']/player_stats['games_played']\n",
    "player_stats['assists_per_game'] = (player_stats['assists']/player_stats['games_played'])\n",
    "player_stats['shots_per_game'] = (player_stats['shots']/player_stats['games_played'])\n",
    "player_stats['giveaways_per_game'] = (player_stats['giveaways']/player_stats['games_played'])\n",
    "\n",
    "# Defense\n",
    "player_stats['hits_per_game'] = (player_stats['hits']/player_stats['games_played'])\n",
    "player_stats['blocked_per_game'] = (player_stats['blocked']/player_stats['games_played'])\n",
    "player_stats['takeaways_per_game'] = (player_stats['takeaways']/player_stats['games_played'])\n",
    "\n",
    "# Power Play\n",
    "player_stats['powerPlayGoals_per_game'] = (player_stats['powerPlayGoals']/player_stats['games_played'])\n",
    "player_stats['powerPlayAssists_per_game'] = (player_stats['powerPlayAssists']/player_stats['games_played'])\n",
    "\n",
    "\n",
    "# Penalty Kill\n",
    "player_stats['shortHandedGoals_per_game'] = (player_stats['powerPlayGoals']/player_stats['games_played'])\n",
    "player_stats['shortHandedAssist_per_game'] = (player_stats['powerPlayAssists']/player_stats['games_played'])\n",
    "player_stats['penaltyMinutes_per_game'] = (player_stats['powerPlayGoals']/player_stats['games_played'])\n",
    "\n",
    "#additional values\n",
    "player_stats['faceoff_percent'] = player_stats['faceOffWins']/player_stats['faceOffTaken']"
   ]
  },
  {
   "cell_type": "markdown",
   "id": "1a4545d3-3073-4377-81ba-205d42426234",
   "metadata": {},
   "source": [
    "Assigning weights based on importance to the game"
   ]
  },
  {
   "cell_type": "code",
   "execution_count": 668,
   "id": "d2b36aa1-0f5a-4347-b811-9f2ea196920e",
   "metadata": {},
   "outputs": [],
   "source": [
    "# Weights for 5 on 5 offensive stats\n",
    "oWeights = {\n",
    "    'goals': 1.0,\n",
    "    'assists': 0.7,\n",
    "    'shots': 0.2,\n",
    "    'giveaways': -0.15,\n",
    "    'faceoff_percent' : 0.05\n",
    "}\n",
    "\n",
    "# Weigth for 5 on 5 defensive stats\n",
    "dWeights = {\n",
    "    'hits': 0.1,    \n",
    "    'blocked': 0.2,\n",
    "    'takeaways': 0.15,\n",
    "}\n",
    "\n",
    "# Weights for 5 on 4 offense\n",
    "powerPlayWeights = {\n",
    "    'powerPlayGoals': 0.9,\n",
    "    'powerPlayAssists': 0.7,\n",
    "    \n",
    "}\n",
    "\n",
    "# Weights for 4 on 5 defense\n",
    "penaltyKillWeights = {\n",
    "    'shortHandedGoals': 1.0,\n",
    "    'shortHandedAssists': 0.8,\n",
    "    'penaltyMinutes': -0.5\n",
    "}"
   ]
  },
  {
   "cell_type": "markdown",
   "id": "1556bc43-d390-4f98-8936-5cc2d5e27820",
   "metadata": {},
   "source": [
    "Calculating Replacement Level for each varaiable"
   ]
  },
  {
   "cell_type": "code",
   "execution_count": 670,
   "id": "3ecc341e-3a53-47b6-880b-c19a11a575c8",
   "metadata": {},
   "outputs": [],
   "source": [
    "# Offense\n",
    "replacement_level_goals = player_stats['goals_per_game'].quantile(0.3)\n",
    "replacement_level_assists = player_stats['assists_per_game'].quantile(0.3)\n",
    "replacement_level_shots = player_stats['shots_per_game'].quantile(0.3)\n",
    "replacement_level_giveaways = player_stats['giveaways_per_game'].quantile(0.3)\n",
    "replacement_level_faceoff = player_stats['faceoff_percent'].quantile(0.3)"
   ]
  },
  {
   "cell_type": "code",
   "execution_count": 672,
   "id": "75e90f83-1cae-4fe2-b73f-3147ae557a99",
   "metadata": {},
   "outputs": [],
   "source": [
    "# Defense\n",
    "replacement_level_hits = player_stats['hits_per_game'].quantile(0.3)\n",
    "replacement_level_blocked = player_stats['blocked_per_game'].quantile(0.3)\n",
    "replacement_level_takeaways = player_stats['takeaways_per_game'].quantile(0.3)"
   ]
  },
  {
   "cell_type": "code",
   "execution_count": 674,
   "id": "188e3cc3-e4cc-40af-803e-8f85a6288793",
   "metadata": {},
   "outputs": [],
   "source": [
    "# Power Play\n",
    "replacement_level_powerPlayGoals = player_stats['powerPlayGoals_per_game'].quantile(0.3)\n",
    "replacement_level_powerPlayAssists = player_stats['powerPlayAssists_per_game'].quantile(0.3)"
   ]
  },
  {
   "cell_type": "code",
   "execution_count": 676,
   "id": "d7e18f66-0aaf-4c09-805b-44a3f4cb719a",
   "metadata": {},
   "outputs": [],
   "source": [
    "# Pentaly Kill\n",
    "replacement_level_shortHandedGoals = player_stats['powerPlayGoals_per_game'].quantile(0.3)\n",
    "replacement_level_shortHandedAssists = player_stats['powerPlayAssists_per_game'].quantile(0.3)\n",
    "replacement_level_penaltyMinutes = player_stats['powerPlayGoals_per_game'].quantile(0.3)"
   ]
  },
  {
   "cell_type": "markdown",
   "id": "1025df64-a086-4edb-b382-22e33e19996e",
   "metadata": {},
   "source": [
    "Calculating the individual contributions to GAR:\n",
    "    "
   ]
  },
  {
   "cell_type": "code",
   "execution_count": 678,
   "id": "8a2f076b-e44b-457c-97e3-171fbc3df05c",
   "metadata": {},
   "outputs": [],
   "source": [
    "# Offense GAR\n",
    "\n",
    "player_stats['offenseGAR'] = (\n",
    "    oWeights['goals'] * (player_stats['goals_per_game'] - replacement_level_goals) +\n",
    "    oWeights['assists'] * (player_stats['assists_per_game'] - replacement_level_assists) +\n",
    "    oWeights['shots'] * (player_stats['shots_per_game'] - replacement_level_shots) +\n",
    "    oWeights['giveaways'] * (player_stats['giveaways_per_game'] - replacement_level_giveaways) \n",
    ")\n",
    "\n"
   ]
  },
  {
   "cell_type": "code",
   "execution_count": 680,
   "id": "84e3e452-125e-45f9-80d0-c5d5859bba8c",
   "metadata": {},
   "outputs": [],
   "source": [
    "# Defense GAR\n",
    "\n",
    "player_stats['defenseGAR'] = (\n",
    "    dWeights['hits'] * (player_stats['hits_per_game'] - replacement_level_hits) +\n",
    "    dWeights['blocked'] * (player_stats['blocked_per_game'] - replacement_level_blocked) +\n",
    "    dWeights['takeaways'] * (player_stats['takeaways_per_game'] - replacement_level_takeaways)\n",
    "\n",
    ")"
   ]
  },
  {
   "cell_type": "code",
   "execution_count": 571,
   "id": "0b839809-923e-482d-953b-a2b19cc8fa23",
   "metadata": {},
   "outputs": [],
   "source": [
    "# Power Play GAR\n",
    "\n",
    "player_stats['ppGAR'] = (\n",
    "    powerPlayWeights['powerPlayGoals'] * (player_stats['powerPlayGoals_per_game'] - replacement_level_powerPlayGoals) +\n",
    "    powerPlayWeights['powerPlayAssists'] * (player_stats['powerPlayAssists_per_game'] - replacement_level_powerPlayAssists) \n",
    "\n",
    ")\n"
   ]
  },
  {
   "cell_type": "code",
   "execution_count": 682,
   "id": "011161f7-3643-4e65-838e-2ba7bfaa36da",
   "metadata": {},
   "outputs": [],
   "source": [
    "# Penalty Kill GAR\n",
    "\n",
    "player_stats['pkGAR'] = (\n",
    "    penaltyKillWeights['shortHandedGoals'] * (player_stats['powerPlayGoals_per_game'] - replacement_level_shortHandedGoals) + \n",
    "    penaltyKillWeights['shortHandedAssists'] * (player_stats['powerPlayAssists_per_game'] - replacement_level_shortHandedAssists) +\n",
    "    penaltyKillWeights['penaltyMinutes'] * (player_stats['powerPlayGoals_per_game'] - replacement_level_penaltyMinutes)\n",
    ")\n"
   ]
  },
  {
   "cell_type": "markdown",
   "id": "7fe801bc-e842-4098-9a44-181d1a9767f0",
   "metadata": {},
   "source": [
    "Calculating overall GAR:"
   ]
  },
  {
   "cell_type": "code",
   "execution_count": 684,
   "id": "250a63a8-0e96-4bac-9e21-74a8909d72b1",
   "metadata": {},
   "outputs": [],
   "source": [
    "player_stats['GAR'] = (\n",
    "    .4*player_stats['offenseGAR'] +\n",
    "    .3*player_stats['defenseGAR'] +\n",
    "    .15*player_stats['ppGAR'] +\n",
    "    .15*player_stats['pkGAR']\n",
    ")"
   ]
  },
  {
   "cell_type": "markdown",
   "id": "8c87f721-0ad6-44f8-864d-d1fd4bd4b160",
   "metadata": {},
   "source": [
    "Summary of GAR"
   ]
  },
  {
   "cell_type": "code",
   "execution_count": 609,
   "id": "ed57937e-2636-4fc8-98f2-ad147e11359f",
   "metadata": {},
   "outputs": [
    {
     "name": "stdout",
     "output_type": "stream",
     "text": [
      "The GAR minimum is: -0.1687431931746859\n",
      "The GAR first Quartile is: 0.031224714399126708\n",
      "The GAR mean is: 0.12757395749688175\n",
      "The GAR median is: 0.10804252111102841\n",
      "The GAR third quartile is: 0.19814205272695345\n",
      "The GAR maximum is: 0.7940447281736288\n"
     ]
    }
   ],
   "source": [
    "print(f\"The GAR minimum is: {player_stats['GAR'].min()}\")\n",
    "print(f\"The GAR first Quartile is: {player_stats['GAR'].quantile(.25)}\")\n",
    "print(f\"The GAR mean is: {player_stats['GAR'].mean()}\")\n",
    "print(f\"The GAR median is: {player_stats['GAR'].median()}\")\n",
    "print(f\"The GAR third quartile is: {player_stats['GAR'].quantile(.75)}\")\n",
    "print(f\"The GAR maximum is: {player_stats['GAR'].max()}\")"
   ]
  },
  {
   "cell_type": "code",
   "execution_count": 688,
   "id": "92b69600-2cc7-4b25-a985-703cc1ce5a8f",
   "metadata": {},
   "outputs": [
    {
     "name": "stdout",
     "output_type": "stream",
     "text": [
      "player1 stats are :       player_id  games_played  timeOnIce  assists  goals  shots   hits  \\\n",
      "2605    8476460           710     855382      369    267   1585  537.0   \n",
      "\n",
      "      powerPlayGoals  powerPlayAssists  penaltyMinutes  ...  \\\n",
      "2605              77                76             338  ...   \n",
      "\n",
      "      powerPlayAssists_per_game  shortHandedGoals_per_game  \\\n",
      "2605                   0.107042                   0.108451   \n",
      "\n",
      "      shortHandedAssist_per_game  penaltyMinutes_per_game  faceoff_percent  \\\n",
      "2605                    0.107042                 0.108451         0.456736   \n",
      "\n",
      "      offenseGAR  defenseGAR     ppGAR     pkGAR       GAR  \n",
      "2605    0.833565    0.312958  0.172535  0.139859  0.474172  \n",
      "\n",
      "[1 rows x 39 columns]\n",
      "player2 stats are :      player_id  games_played  timeOnIce  assists  goals  shots   hits  \\\n",
      "3122    8479318           459     528892      208    261   1717  238.0   \n",
      "\n",
      "      powerPlayGoals  powerPlayAssists  penaltyMinutes  ...  \\\n",
      "3122              67                67              70  ...   \n",
      "\n",
      "      powerPlayAssists_per_game  shortHandedGoals_per_game  \\\n",
      "3122                   0.145969                   0.145969   \n",
      "\n",
      "      shortHandedAssist_per_game  penaltyMinutes_per_game  faceoff_percent  \\\n",
      "3122                    0.145969                 0.145969         0.521464   \n",
      "\n",
      "      offenseGAR  defenseGAR     ppGAR    pkGAR       GAR  \n",
      "3122    1.247423    0.374292  0.233551  0.18976  0.674754  \n",
      "\n",
      "[1 rows x 39 columns]\n"
     ]
    }
   ],
   "source": [
    "print(f\"player1 stats are : {player_stats.loc[player_stats['player_id'] == player1_id]}\") \n",
    "print(f\"player2 stats are :{player_stats.loc[player_stats['player_id'] == player2_id]}\") \n"
   ]
  },
  {
   "cell_type": "code",
   "execution_count": null,
   "id": "3a587b4f-6bb4-4cd3-93d1-d9897a6c0d56",
   "metadata": {},
   "outputs": [],
   "source": []
  }
 ],
 "metadata": {
  "kernelspec": {
   "display_name": "Python 3 (ipykernel)",
   "language": "python",
   "name": "python3"
  },
  "language_info": {
   "codemirror_mode": {
    "name": "ipython",
    "version": 3
   },
   "file_extension": ".py",
   "mimetype": "text/x-python",
   "name": "python",
   "nbconvert_exporter": "python",
   "pygments_lexer": "ipython3",
   "version": "3.12.4"
  }
 },
 "nbformat": 4,
 "nbformat_minor": 5
}
